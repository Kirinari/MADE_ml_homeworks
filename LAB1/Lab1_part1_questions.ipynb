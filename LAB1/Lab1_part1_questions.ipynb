{
 "cells": [
  {
   "cell_type": "markdown",
   "metadata": {},
   "source": [
    "*Credits: materials from this notebook belong to YSDA [Practical DL](https://github.com/yandexdataschool/Practical_DL) course. Special thanks for making them available online.*"
   ]
  },
  {
   "cell_type": "markdown",
   "metadata": {},
   "source": [
    "# Lab assignment №1, part 1\n",
    "\n",
    "This lab assignment consists of several parts. You are supposed to make some transformations, train some models, estimate the quality of the models and explain your results.\n",
    "\n",
    "Several comments:\n",
    "* Don't hesitate to ask questions, it's a good practice.\n",
    "* No private/public sharing, please. The copied assignments will be graded with 0 points.\n",
    "* Blocks of this lab will be graded separately."
   ]
  },
  {
   "cell_type": "markdown",
   "metadata": {},
   "source": [
    "## 1. Matrix differentiation"
   ]
  },
  {
   "cell_type": "markdown",
   "metadata": {},
   "source": [
    "Since it easy to google every task please please please try to undestand what's going on. The \"just answer\" thing will be not counted, make sure to present derivation of your solution. It is absolutely OK if you found an answer on web then just exercise in $\\LaTeX$ copying it into here."
   ]
  },
  {
   "cell_type": "markdown",
   "metadata": {},
   "source": [
    "Useful links: \n",
    "[1](http://www.machinelearning.ru/wiki/images/2/2a/Matrix-Gauss.pdf)\n",
    "[2](http://www.atmos.washington.edu/~dennis/MatrixCalculus.pdf)"
   ]
  },
  {
   "cell_type": "markdown",
   "metadata": {},
   "source": [
    "### Some facts"
   ]
  },
  {
   "cell_type": "markdown",
   "metadata": {},
   "source": [
    "First of all"
   ]
  },
  {
   "cell_type": "markdown",
   "metadata": {},
   "source": [
    "$$  \n",
    "    \\quad x \\in \\mathbb{R}^N,    \\quad A \\in \\mathbb{R}^{M\\times N}\n",
    "$$"
   ]
  },
  {
   "cell_type": "markdown",
   "metadata": {},
   "source": [
    "$$\n",
    "    x^TAx = \\langle Ax, x\\rangle = \\sum\\limits_{i, j}a_{ij}x_ix_j <br>\n",
    "    \\frac{d\\left(x^TAx\\right)}{dx} = \\frac{d\\langle Ax, x\\rangle}{dx} = \\left\\{\\frac{d\\sum\\limits_{i, j}a_{ij}x_ix_j}{dx_k}\\right\\}_{k}\n",
    "$$\n",
    "$$\n",
    "    \\sum\\limits_{i, j}\\frac{d\\left(a_{ij}x_ix_j\\right)}{dx_k} = \\sum\\limits_{j}\\left(a_{kj}x_j\\right) + \\sum\\limits_{i}\\left(a_{ik}x_i\\right) = \\sum\\limits_{i}\\left(\\left(a_{ki} + a_{ik}\\right)x_i\\right)\n",
    "$$\n",
    "$$\n",
    "    \\frac{d\\left(x^TAx\\right)}{dx} = \\left(A + A^T\\right)x\n",
    "$$"
   ]
  },
  {
   "cell_type": "markdown",
   "metadata": {},
   "source": [
    "And another one"
   ]
  },
  {
   "cell_type": "markdown",
   "metadata": {},
   "source": [
    "$$\n",
    "    \\quad x \\in \\mathbb{R}^N,    \\quad y \\in \\mathbb{R}^N\n",
    "$$\n",
    "$$\n",
    "    x^Ty = \\langle x, y \\rangle = \\langle y, x \\rangle = y^Tx = \\sum\\limits_{i}x_iy_i\n",
    "$$\n",
    "$$\n",
    "    \\frac{dx^T}{dy} = y\n",
    "$$"
   ]
  },
  {
   "cell_type": "markdown",
   "metadata": {},
   "source": [
    "## ex. 1"
   ]
  },
  {
   "cell_type": "markdown",
   "metadata": {},
   "source": [
    "$$  \n",
    "y = x^Tx,  \\quad x \\in \\mathbb{R}^N \n",
    "$$"
   ]
  },
  {
   "cell_type": "markdown",
   "metadata": {
    "collapsed": true,
    "jupyter": {
     "outputs_hidden": true
    }
   },
   "source": [
    "$$\n",
    "\\frac{dy}{dx} = \\frac{d\\left(x^TIx\\right)}{dx} = \\left(I + I^T\\right)x = 2x\n",
    "$$ "
   ]
  },
  {
   "cell_type": "markdown",
   "metadata": {},
   "source": [
    "## ex. 2"
   ]
  },
  {
   "cell_type": "markdown",
   "metadata": {},
   "source": [
    "$$ y = tr(AB) \\quad A,B \\in \\mathbb{R}^{N \\times N} $$ "
   ]
  },
  {
   "cell_type": "markdown",
   "metadata": {},
   "source": [
    "$$\n",
    "    AB = \\left\\{ \\sum\\limits_{k = 1}^N a_{ik}b_{kj} \\right\\}_{ij}\n",
    "$$\n",
    "$$\n",
    "    tr\\left(AB\\right) = \\sum\\limits_{r = 1}^N\\sum\\limits_{k = 1}^N a_{rk}b_{kr}\n",
    "$$\n",
    "$$\n",
    "    \\frac{d~tr\\left(AB\\right)}{da_{ij}} = b_{ji}\n",
    "$$"
   ]
  },
  {
   "cell_type": "markdown",
   "metadata": {},
   "source": [
    "$$\n",
    "\\frac{dy}{dA} = B^T\n",
    "$$"
   ]
  },
  {
   "cell_type": "markdown",
   "metadata": {},
   "source": [
    "## ex. 3"
   ]
  },
  {
   "cell_type": "markdown",
   "metadata": {},
   "source": [
    "$$  \n",
    "y = x^TAc , \\quad A\\in \\mathbb{R}^{N \\times N}, x\\in \\mathbb{R}^{N}, c\\in \\mathbb{R}^{N} \n",
    "$$"
   ]
  },
  {
   "cell_type": "markdown",
   "metadata": {},
   "source": [
    "$$\n",
    "\\frac{dy}{dx} = \\frac{d\\left( x^TAc\\right)}{dx} = \\frac{d\\langle Ac, x\\rangle}{dx} = Ac\n",
    "$$"
   ]
  },
  {
   "cell_type": "markdown",
   "metadata": {},
   "source": [
    "$$ \n",
    "    x^TAc = \\langle Ac, x \\rangle = \\sum\\limits_{i = 1}^N\\sum\\limits_{j = 1}^Na_{ij}x_ic_j\n",
    "$$\n",
    "$$\n",
    "    \\frac{d \\left(\\sum\\limits_{i = 1}^N\\sum\\limits_{j = 1}^Na_{ij}x_ic_j \\right)} {da_{ij}} = x_ic_j\n",
    "$$"
   ]
  },
  {
   "cell_type": "markdown",
   "metadata": {},
   "source": [
    "$$\n",
    "\\frac{dy}{dA} = \\left\\{x_ic_j \\right\\}_{ij} = xc^T\n",
    "$$ "
   ]
  },
  {
   "cell_type": "markdown",
   "metadata": {},
   "source": [
    "## ex. 4"
   ]
  },
  {
   "cell_type": "markdown",
   "metadata": {},
   "source": [
    "Classic matrix factorization example. Given matrix $X$ you need to find $A$, $S$ to approximate $X$. This can be done by simple gradient descent iteratively alternating $A$ and $S$ updates.\n",
    "$$\n",
    "J = || X - AS ||_F^2  , \\quad A\\in \\mathbb{R}^{N \\times R} , \\quad S\\in \\mathbb{R}^{R \\times M}\n",
    "$$\n",
    "$$\n",
    "\\frac{dJ}{dS} = ? \n",
    "$$"
   ]
  },
  {
   "cell_type": "markdown",
   "metadata": {},
   "source": [
    "First of all"
   ]
  },
  {
   "cell_type": "markdown",
   "metadata": {},
   "source": [
    "$$\n",
    "    || X - AS ||_F^2 = tr\\left(\\left(X-AS\\right)\\left(X-AS\\right)^T\\right) = \n",
    "    tr\\left(\\left(X-AS\\right)\\left(X^T-S^TA^T\\right)\\right) =\n",
    "$$\n",
    "$$\n",
    "    = tr\\left( XX^T - XS^TA^T - ASX^T + ASS^TA^T\\right) = \n",
    "$$\n",
    "$$\n",
    "    tr\\left( XX^T\\right) - tr\\left(XS^TA^T\\right) - tr\\left(ASX^T\\right) + tr\\left(ASS^TA^T\\right) =\n",
    "$$\n",
    "$$\n",
    "    = tr\\left(XX^T\\right) - tr\\left(A^TXS^T\\right) - tr\\left(X^TAS\\right) + tr\\left(A^TASS^T\\right) =\n",
    "$$\n",
    "$$\n",
    "    = tr\\left(XX^T\\right) -  2tr\\left(X^TAS\\right) + tr\\left(A^TASS^T\\right)\n",
    "$$"
   ]
  },
  {
   "cell_type": "markdown",
   "metadata": {},
   "source": [
    "Then"
   ]
  },
  {
   "cell_type": "markdown",
   "metadata": {},
   "source": [
    "$$\n",
    "    \\frac{dJ}{dS} = \\frac{d\\left(tr\\left(A^TASS^T\\right)\\right)}{dS} - 2\\frac{d\\left(tr\\left(X^TAS\\right)\\right)}{dS}\n",
    "$$\n",
    "$$\n",
    "    \\frac{d\\left(tr\\left(X^TAS\\right)\\right)}{dS} = \\left(X^TA\\right)^T = A^TX\n",
    "$$\n",
    "$$\n",
    "    AS = \\left\\{\\sum\\limits_{k}a_{ik}s_{kj}\\right\\}_{ij}\n",
    "$$\n",
    "$$\n",
    "    tr(A^TASS^T) = tr\\left(AS(AS)^T\\right) = \\sum\\limits_{u, v}\\left( \\sum\\limits_{k}a_{uk}s_{kv}\\right)^2\n",
    "$$\n",
    "$$\n",
    "    \\frac{d\\left( \\sum\\limits_{u, v}\\left( \\sum\\limits_{k}a_{uk}s_{kv}\\right)^2 \\right)}{ds_{ij}} =\n",
    "    \\sum\\limits_{u, v}\\frac{d\\left( \\sum\\limits_{k}a_{uk}s_{kv}\\right)^2}{ds_{ij}} =\n",
    "$$\n",
    "$$\n",
    "    \\sum\\limits_{u, v}\\frac{d\\left( \\sum\\limits_{k, m}a_{uk}s_{kv}a_{um}s_{mv}\\right)}{ds_{ij}} =\n",
    "$$\n",
    "$$\n",
    "    \\sum\\limits_{u, v}\\left(\\sum\\limits_{m}a_{ui}a_{um}s_{mj} + \\sum\\limits_{k}a_{uk}a_{ui}s_{kj}\\right) =\n",
    "$$\n",
    "$$\n",
    "    = 2\\sum\\limits_{u, v}\\sum\\limits_{k}a_{uk}a_{ui}s_{kj}\n",
    "$$\n",
    "$$\n",
    "    \\frac{d\\left(tr\\left(A^TASS^T\\right)\\right)}{dS} = 2A^TAS\n",
    "$$"
   ]
  },
  {
   "cell_type": "markdown",
   "metadata": {},
   "source": [
    "Finally"
   ]
  },
  {
   "cell_type": "markdown",
   "metadata": {},
   "source": [
    "$$\n",
    "    \\frac{dJ}{dS} = 2A^TAS - 2A^TX = -2A^T(X - AS)\n",
    "$$"
   ]
  },
  {
   "cell_type": "markdown",
   "metadata": {
    "collapsed": true,
    "jupyter": {
     "outputs_hidden": true
    }
   },
   "source": [
    "## 2. kNN questions\n",
    "Here come the questions from the assignment0_01. Please, refer to the assignment0_01 to get the context of the questions."
   ]
  },
  {
   "cell_type": "markdown",
   "metadata": {},
   "source": [
    "### Question 1\n",
    "\n",
    "Notice the structured patterns in the distance matrix, where some rows or columns are visible brighter. (Note that with the default color scheme black indicates low distances while white indicates high distances.)\n",
    "\n",
    "- What in the data is the cause behind the distinctly bright rows?\n",
    "- What causes the columns?\n",
    "\n",
    "$\\color{blue}{\\textit Your Answer:}$ I think the reason for bright columns is the same for rows. There are objects that cannot be classified as any of digits. for instance, blots, clumsy handwriting.\n",
    "\n",
    "\n"
   ]
  },
  {
   "cell_type": "markdown",
   "metadata": {},
   "source": [
    "### Question 2\n",
    "\n",
    "We can also use other distance metrics such as L1 distance.\n",
    "For pixel values $p_{ij}^{(k)}$ at location $(i,j)$ of some image $I_k$, \n",
    "\n",
    "the mean $\\mu$ across all pixels over all images is $$\\mu=\\frac{1}{nhw}\\sum_{k=1}^n\\sum_{i=1}^{h}\\sum_{j=1}^{w}p_{ij}^{(k)}$$\n",
    "And the pixel-wise mean $\\mu_{ij}$ across all images is \n",
    "$$\\mu_{ij}=\\frac{1}{n}\\sum_{k=1}^np_{ij}^{(k)}.$$\n",
    "The general standard deviation $\\sigma$ and pixel-wise standard deviation $\\sigma_{ij}$ is defined similarly.\n",
    "\n",
    "Which of the following preprocessing steps will not change the performance of a Nearest Neighbor classifier that uses L1 distance? Select all that apply.\n",
    "1. Subtracting the mean $\\mu$ ($\\tilde{p}_{ij}^{(k)}=p_{ij}^{(k)}-\\mu$.)\n",
    "2. Subtracting the per pixel mean $\\mu_{ij}$  ($\\tilde{p}_{ij}^{(k)}=p_{ij}^{(k)}-\\mu_{ij}$.)\n",
    "3. Subtracting the mean $\\mu$ and dividing by the standard deviation $\\sigma$.\n",
    "4. Subtracting the pixel-wise mean $\\mu_{ij}$ and dividing by the pixel-wise standard deviation $\\sigma_{ij}$.\n",
    "5. Rotating the coordinate axes of the data.\n",
    "\n",
    "$\\color{blue}{\\textit Your Answer:}$ 1, 3\n",
    "\n",
    "\n",
    "$\\color{blue}{\\textit Your Explanation:}$ 1 and 3 as $\\mu$ is eliminated in substraction and $\\sigma$ doesn't change argmax, because every result is devided by the same number.\n",
    "It doesn't go for 2 and 4 because there are different values for every image.\n",
    "What about 5, L1 depends on the rotation of the coordinate system.\n",
    "\n"
   ]
  },
  {
   "cell_type": "markdown",
   "metadata": {},
   "source": [
    "## Question 3\n",
    "\n",
    "Which of the following statements about $k$-Nearest Neighbor ($k$-NN) are true in a classification setting, and for all $k$? Select all that apply.\n",
    "1. The decision boundary (hyperplane between classes in feature space) of the k-NN classifier is linear.\n",
    "2. The training error of a 1-NN will always be lower than that of 5-NN.\n",
    "3. The test error of a 1-NN will always be lower than that of a 5-NN.\n",
    "4. The time needed to classify a test example with the k-NN classifier grows with the size of the training set.\n",
    "5. None of the above.\n",
    "\n",
    "$\\color{blue}{\\textit Your Answer:}$ 2, 4\n",
    "\n",
    "\n",
    "$\\color{blue}{\\textit Your Explanation:}$\n",
    "1. No.Let us consider the case when objects of the first class are vertex of triangle in feature space. And the object of second class is in the central point of the triangle (whatever \"central\" means). Given k=2 The decision boundary will not be linear.\n",
    "2. Yes, because with 1-NN the error is 0, but with 5-NN the error is no lower than zero\n",
    "3. No, it can be even higher if there are many objects that nearer to the \"cloud\" of the other class.\n",
    "4. Yes. Given n objects we must calculate n^2 distances. And this number grows with n.\n",
    "\n",
    "\n"
   ]
  }
 ],
 "metadata": {
  "kernelspec": {
   "display_name": "Python 3 (ipykernel)",
   "language": "python",
   "name": "python3"
  },
  "language_info": {
   "codemirror_mode": {
    "name": "ipython",
    "version": 3
   },
   "file_extension": ".py",
   "mimetype": "text/x-python",
   "name": "python",
   "nbconvert_exporter": "python",
   "pygments_lexer": "ipython3",
   "version": "3.9.12"
  }
 },
 "nbformat": 4,
 "nbformat_minor": 4
}
